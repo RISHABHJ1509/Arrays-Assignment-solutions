{
 "cells": [
  {
   "cell_type": "code",
   "execution_count": 9,
   "id": "3bea1647",
   "metadata": {},
   "outputs": [
    {
     "name": "stdout",
     "output_type": "stream",
     "text": [
      "The array contains duplicates.\n"
     ]
    }
   ],
   "source": [
    "#1. Given an array, check if it contains any duplicates or not.\n",
    "arr = [1, 2, 4, 2, 5, 9]\n",
    "\n",
    "def has_duplicates(array):\n",
    "    seen = set() # creating a set \n",
    "    for num in array: # running a for loop in array\n",
    "        if num in seen: # checking if seen contains items of array\n",
    "            return True\n",
    "        seen.add(num) # adding numbers of array to the set\n",
    "    return False\n",
    "\n",
    "result = has_duplicates(arr)\n",
    "if result:\n",
    "    print(\"The array contains duplicates.\")\n",
    "else:\n",
    "    print(\"No duplicates found in the array.\")\n"
   ]
  },
  {
   "cell_type": "code",
   "execution_count": 2,
   "id": "5119edbf",
   "metadata": {},
   "outputs": [
    {
     "name": "stdout",
     "output_type": "stream",
     "text": [
      "[5, 6, 7, 1, 2, 3, 4]\n"
     ]
    }
   ],
   "source": [
    "#2. Given an array and an integer k, rotate the array to the right by k steps.\n",
    "\n",
    "arr = [1, 2, 3, 4, 5, 6, 7]\n",
    "k = 3\n",
    "\n",
    "def reverse(arr, start, end):\n",
    "    while start < end:\n",
    "        arr[start], arr[end] = arr[end], arr[start]\n",
    "        start += 1\n",
    "        end -= 1\n",
    "\n",
    "def rotate_array(arr, k):\n",
    "    n = len(arr)\n",
    "    k = k % n  # Normalize k in case it's larger than the array length\n",
    "\n",
    "    reverse(arr, 0, n - 1)  # Reverse the whole array\n",
    "    reverse(arr, 0, k - 1)  # Reverse the first k elements\n",
    "    reverse(arr, k, n - 1)  # Reverse the remaining elements\n",
    "\n",
    "rotate_array(arr, k)\n",
    "print(arr)  # Output the rotated array\n"
   ]
  },
  {
   "cell_type": "code",
   "execution_count": 3,
   "id": "dd59f799",
   "metadata": {},
   "outputs": [
    {
     "name": "stdout",
     "output_type": "stream",
     "text": [
      "[12, 9, 7, 5, 4, 2]\n"
     ]
    }
   ],
   "source": [
    "#3. Reverse the given array in-place, means without using any extra data structure.\n",
    "arr = [2, 4, 5, 7, 9, 12]\n",
    "\n",
    "def reverse_array(arr):\n",
    "    start = 0\n",
    "    end = len(arr) - 1\n",
    "\n",
    "    while start < end:\n",
    "        # Swap elements at start and end indices\n",
    "        arr[start], arr[end] = arr[end], arr[start]\n",
    "        start += 1\n",
    "        end -= 1\n",
    "\n",
    "reverse_array(arr)\n",
    "print(arr)  # Output the reversed array\n"
   ]
  },
  {
   "cell_type": "code",
   "execution_count": 6,
   "id": "1e911f4c",
   "metadata": {},
   "outputs": [
    {
     "name": "stdout",
     "output_type": "stream",
     "text": [
      "The maximum element in the array is: 20\n"
     ]
    }
   ],
   "source": [
    "#4. Given an array of integers, find the maximum element in an array\n",
    "arr = [10, 5, 20, 8, 15]\n",
    "\n",
    "def find_max(arr):\n",
    "    if not arr:\n",
    "        return None\n",
    "\n",
    "    max_element = arr[0]  # Initialize max_element as the first element\n",
    "\n",
    "    for num in arr:\n",
    "        if num > max_element:\n",
    "            max_element = num  # Update max_element if a larger element is found\n",
    "\n",
    "    return max_element\n",
    "\n",
    "max_num = find_max(arr)\n",
    "print(\"The maximum element in the array is:\", max_num)\n"
   ]
  },
  {
   "cell_type": "code",
   "execution_count": 5,
   "id": "73a694aa",
   "metadata": {},
   "outputs": [
    {
     "name": "stdout",
     "output_type": "stream",
     "text": [
      "The array after removing duplicates: [1, 2, 3, 4, 5]\n"
     ]
    }
   ],
   "source": [
    "#5. Given a sorted array, remove the duplicate element without using any extra data structure.\n",
    "\n",
    "arr = [1, 1, 2, 2, 2, 3, 3, 4, 4, 4, 5, 5]\n",
    "\n",
    "def remove_duplicates(arr):\n",
    "    if not arr:\n",
    "        return 0  # If the array is empty, return 0\n",
    "\n",
    "    write_index = 1  # Initialize the write index starting from the second element\n",
    "\n",
    "    for i in range(1, len(arr)):\n",
    "        if arr[i] != arr[i - 1]:\n",
    "            arr[write_index] = arr[i]  # Move non-duplicate elements to the front\n",
    "            write_index += 1\n",
    "\n",
    "    return write_index  # Return the new length of the array without duplicates\n",
    "\n",
    "new_length = remove_duplicates(arr)\n",
    "print(\"The array after removing duplicates:\", arr[:new_length])\n"
   ]
  },
  {
   "cell_type": "code",
   "execution_count": null,
   "id": "11d64e6a",
   "metadata": {},
   "outputs": [],
   "source": []
  }
 ],
 "metadata": {
  "kernelspec": {
   "display_name": "Python 3 (ipykernel)",
   "language": "python",
   "name": "python3"
  },
  "language_info": {
   "codemirror_mode": {
    "name": "ipython",
    "version": 3
   },
   "file_extension": ".py",
   "mimetype": "text/x-python",
   "name": "python",
   "nbconvert_exporter": "python",
   "pygments_lexer": "ipython3",
   "version": "3.11.4"
  }
 },
 "nbformat": 4,
 "nbformat_minor": 5
}
